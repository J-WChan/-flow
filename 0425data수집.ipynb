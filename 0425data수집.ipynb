{
 "cells": [
  {
   "cell_type": "code",
   "execution_count": 1,
   "metadata": {},
   "outputs": [],
   "source": [
    "from bs4 import BeautifulSoup\n",
    "import requests\n",
    "import pandas as pd \n",
    "import json"
   ]
  },
  {
   "attachments": {},
   "cell_type": "markdown",
   "metadata": {},
   "source": [
    "이름 basicList_link__JLQJf<br>\n",
    "특징 basicList_desc__3kwkT basicList_max__ODs_o"
   ]
  },
  {
   "cell_type": "code",
   "execution_count": 35,
   "metadata": {},
   "outputs": [],
   "source": [
    "# 페이지 바꿔가며 크롤링 \n",
    "goods_name = []\n",
    "feature_list = []\n",
    "for i in range(1,6) :\n",
    "    url = requests.get(f'https://search.shopping.naver.com/search/all?frm=NVSHATC&origQuery=%EC%A0%84%EB%8F%99%ED%82%A5%EB%B3%B4%EB%93%9C&pagingIndex={i}&pagingSize=20&productSet=total&query=%EC%A0%84%EB%8F%99%ED%82%A5%EB%B3%B4%EB%93%9C&sort=rel&timestamp=&viewType=list')\n",
    "    web_html = BeautifulSoup(url.text, 'html.parser')\n",
    "    goods = web_html.find_all(class_='basicList_link__JLQJf')\n",
    "    for i in range(len(goods)-1) :\n",
    "        goods_name.append(goods[i].get_text())\n",
    "\n",
    "    features = web_html.find_all(class_='basicList_detail_box__OoXKt')\n",
    "    for i in range(len(features)) :\n",
    "        feature_list.append(features[i].get_text())"
   ]
  },
  {
   "cell_type": "code",
   "execution_count": 49,
   "metadata": {},
   "outputs": [
    {
     "data": {
      "text/plain": [
       "'레드윙 써클 접이식 전기 전동킥보드 10인치 36V 10Ah'"
      ]
     },
     "execution_count": 49,
     "metadata": {},
     "output_type": "execute_result"
    }
   ],
   "source": [
    "' '.join(goods_name[0].split(' ')[1:])"
   ]
  },
  {
   "cell_type": "code",
   "execution_count": 50,
   "metadata": {},
   "outputs": [],
   "source": [
    "# 상품목록에서 제조사,상품명 추출 \n",
    "company = []\n",
    "goods_list = []\n",
    "for goods in goods_name :\n",
    "    company.append(goods.split(' ')[0])\n",
    "    goods_list.append(' '.join(goods.split(' ')[1:]))\n"
   ]
  },
  {
   "cell_type": "code",
   "execution_count": 37,
   "metadata": {},
   "outputs": [],
   "source": [
    "# feature_list에서 충전시간, 주행거리만 추출\n",
    "\n",
    "charge_time = []\n",
    "drive_distance = []\n",
    "\n",
    "for i in range(len(feature_list)) :\n",
    "    충전시간 = feature_list[i].find('충전시간')+7\n",
    "    for j in range(충전시간, len(feature_list[i])) :\n",
    "        if feature_list[i][j].isdigit() or feature_list[i][j] == '.' :\n",
    "            pass\n",
    "        else :\n",
    "            charge_time.append(feature_list[i][충전시간:j])\n",
    "            break\n",
    "\n",
    "for i in range(len(feature_list)) :\n",
    "    주행거리 = feature_list[i].find('주행거리')+7\n",
    "    for j in range(주행거리, len(feature_list[i])) :\n",
    "        if feature_list[i][j].isdigit() or feature_list[i][j] == '.' :\n",
    "            pass\n",
    "        else :\n",
    "            drive_distance.append(feature_list[i][주행거리:j])\n",
    "            break\n"
   ]
  },
  {
   "cell_type": "code",
   "execution_count": 53,
   "metadata": {},
   "outputs": [],
   "source": [
    "df = pd.DataFrame([company,goods_list,charge_time,drive_distance]).T\n",
    "df.columns=['제조사','상품명','충전시간(시간)','주행거리(km)']\n",
    "\n",
    "transform = df.to_json(force_ascii=False, orient = 'index', indent= 4)\n",
    "transform_2 = json.loads(transform)"
   ]
  },
  {
   "cell_type": "code",
   "execution_count": 57,
   "metadata": {},
   "outputs": [],
   "source": [
    "# file 저장 \n",
    "with open('./output.json','w',encoding='utf-8') as json_file :\n",
    "    json.dump(transform_2,json_file,ensure_ascii=False)"
   ]
  }
 ],
 "metadata": {
  "kernelspec": {
   "display_name": "Python 3",
   "language": "python",
   "name": "python3"
  },
  "language_info": {
   "codemirror_mode": {
    "name": "ipython",
    "version": 3
   },
   "file_extension": ".py",
   "mimetype": "text/x-python",
   "name": "python",
   "nbconvert_exporter": "python",
   "pygments_lexer": "ipython3",
   "version": "3.10.10"
  },
  "orig_nbformat": 4,
  "vscode": {
   "interpreter": {
    "hash": "fb4569285eef3a3450cb62085a5b1e0da4bce0af555edc33dcf29baf3acc1368"
   }
  }
 },
 "nbformat": 4,
 "nbformat_minor": 2
}
